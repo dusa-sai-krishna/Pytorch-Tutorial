{
 "cells": [
  {
   "cell_type": "markdown",
   "metadata": {},
   "source": [
    "# Tensors\n",
    "\n",
    "- Tensors can be 1D, 2D or 3D or more\n",
    "- In pytorch , every data structure is a tensor"
   ]
  },
  {
   "cell_type": "markdown",
   "metadata": {},
   "source": [
    "## Creating Tensors\n",
    "\n",
    "- tensor_object.size() will give size of a tensor\n",
    "- tensor_object.numpy() to convert it into a numpy array\n",
    "- torch.from_numpy() to convert a numpy array into a tensor"
   ]
  },
  {
   "cell_type": "code",
   "execution_count": 1,
   "metadata": {},
   "outputs": [
    {
     "name": "stdout",
     "output_type": "stream",
     "text": [
      "tensor([[[-1837100640,        1007],\n",
      "         [          0,           0]],\n",
      "\n",
      "        [[          0,           0],\n",
      "         [          0,           0]]], dtype=torch.int32)\n",
      "tensor([[[0., 0.],\n",
      "         [0., 0.]],\n",
      "\n",
      "        [[0., 0.],\n",
      "         [0., 0.]]])\n",
      "tensor([[[1., 1.],\n",
      "         [1., 1.]],\n",
      "\n",
      "        [[1., 1.],\n",
      "         [1., 1.]]])\n",
      "tensor([[[0.1394, 0.4119],\n",
      "         [0.9445, 0.7900]],\n",
      "\n",
      "        [[0.3532, 0.1786],\n",
      "         [0.7727, 0.0937]]])\n",
      "tensor([[1, 2, 3],\n",
      "        [4, 5, 6]])\n"
     ]
    }
   ],
   "source": [
    "import torch\n",
    "\n",
    "# create a empty tensor\n",
    "print(torch.empty(2,2,2,dtype=torch.int)) # Named argument dtype is used to specify the data type\n",
    "\n",
    "# create a tensor filled with zeros\n",
    "print(torch.zeros(2,2,2))\n",
    "\n",
    "# create a tensor filled with ones\n",
    "print(torch.ones(2,2,2))\n",
    "\n",
    "#create a tensor filled with random values\n",
    "print(torch.rand(2,2,2))\n",
    "\n",
    "# create a tensor from a list.\n",
    "print(torch.tensor([[1,2,3],[4,5,6]]))\n"
   ]
  },
  {
   "cell_type": "markdown",
   "metadata": {},
   "source": [
    "## Operations with tensors"
   ]
  },
  {
   "cell_type": "code",
   "execution_count": 2,
   "metadata": {},
   "outputs": [
    {
     "name": "stdout",
     "output_type": "stream",
     "text": [
      "tensor([[ 8, 10, 12],\n",
      "        [14, 16, 18]])\n",
      "tensor([[ 8, 10, 12],\n",
      "        [14, 16, 18]])\n",
      "tensor([[ 8, 10, 12],\n",
      "        [14, 16, 18]])\n"
     ]
    }
   ],
   "source": [
    "# add\n",
    "a = torch.tensor([[1,2,3],[4,5,6]])\n",
    "b = torch.tensor([[7,8,9],[10,11,12]])\n",
    "print(a+b)\n",
    "\n",
    "# using built in method\n",
    "print(torch.add(a,b))\n",
    "\n",
    "# performing inplace\n",
    "a.add_(b)\n",
    "print(a)  # Here any operation with trailing underscore, performs inplace."
   ]
  },
  {
   "cell_type": "code",
   "execution_count": 3,
   "metadata": {},
   "outputs": [
    {
     "name": "stdout",
     "output_type": "stream",
     "text": [
      "tensor([[-6, -6, -6],\n",
      "        [-6, -6, -6]])\n",
      "tensor([[-6, -6, -6],\n",
      "        [-6, -6, -6]])\n",
      "tensor([[-6, -6, -6],\n",
      "        [-6, -6, -6]])\n"
     ]
    }
   ],
   "source": [
    "# Subtraction\n",
    "\n",
    "a = torch.tensor([[1,2,3],[4,5,6]])\n",
    "b = torch.tensor([[7,8,9],[10,11,12]])\n",
    "\n",
    "print(a-b)\n",
    "\n",
    "# using built in method\n",
    "print(torch.sub(a,b))\n",
    "\n",
    "# performing inplace\n",
    "a.sub_(b)\n",
    "print(a)  # Here any operation with trailing underscore, performs inplace."
   ]
  },
  {
   "cell_type": "code",
   "execution_count": 4,
   "metadata": {},
   "outputs": [
    {
     "name": "stdout",
     "output_type": "stream",
     "text": [
      "tensor([[ 7, 16, 27],\n",
      "        [40, 55, 72]])\n",
      "tensor([[ 7, 16, 27],\n",
      "        [40, 55, 72]])\n",
      "tensor([[ 7, 16, 27],\n",
      "        [40, 55, 72]])\n"
     ]
    }
   ],
   "source": [
    "# multiplication\n",
    "\n",
    "a = torch.tensor([[1,2,3],[4,5,6]])\n",
    "b = torch.tensor([[7,8,9],[10,11,12]])\n",
    "\n",
    "print(a*b)  \n",
    "\n",
    "# using built in method\n",
    "print(torch.mul(a,b))\n",
    "\n",
    "# performing inplace\n",
    "a.mul_(b)\n",
    "print(a)  # Here any operation with trailing underscore, performs inplace."
   ]
  },
  {
   "cell_type": "code",
   "execution_count": 5,
   "metadata": {},
   "outputs": [
    {
     "name": "stdout",
     "output_type": "stream",
     "text": [
      "tensor([[0.1429, 0.2500, 0.3333],\n",
      "        [0.4000, 0.4545, 0.5000]])\n",
      "tensor([[0.1429, 0.2500, 0.3333],\n",
      "        [0.4000, 0.4545, 0.5000]])\n"
     ]
    },
    {
     "ename": "RuntimeError",
     "evalue": "result type Float can't be cast to the desired output type Long",
     "output_type": "error",
     "traceback": [
      "\u001b[1;31m---------------------------------------------------------------------------\u001b[0m",
      "\u001b[1;31mRuntimeError\u001b[0m                              Traceback (most recent call last)",
      "Cell \u001b[1;32mIn[5], line 12\u001b[0m\n\u001b[0;32m      9\u001b[0m \u001b[38;5;28mprint\u001b[39m(torch\u001b[38;5;241m.\u001b[39mdiv(a,b))\n\u001b[0;32m     11\u001b[0m \u001b[38;5;66;03m# performing inplace\u001b[39;00m\n\u001b[1;32m---> 12\u001b[0m \u001b[43ma\u001b[49m\u001b[38;5;241;43m.\u001b[39;49m\u001b[43mdiv_\u001b[49m\u001b[43m(\u001b[49m\u001b[43mb\u001b[49m\u001b[43m)\u001b[49m\n\u001b[0;32m     13\u001b[0m \u001b[38;5;28mprint\u001b[39m(a)  \u001b[38;5;66;03m# Here any operation with trailing underscore, performs inplace.\u001b[39;00m\n",
      "\u001b[1;31mRuntimeError\u001b[0m: result type Float can't be cast to the desired output type Long"
     ]
    }
   ],
   "source": [
    "# division\n",
    "\n",
    "a = torch.tensor([[1,2,3],[4,5,6]])\n",
    "b = torch.tensor([[7,8,9],[10,11,12]])\n",
    "\n",
    "print(a/b)\n",
    "\n",
    "# using built in method\n",
    "print(torch.div(a,b))\n",
    "\n",
    "# performing inplace\n",
    "a.div_(b)\n",
    "print(a)  # Here any operation with trailing underscore, performs inplace."
   ]
  },
  {
   "cell_type": "markdown",
   "metadata": {},
   "source": [
    "# Slicing and Indexing tensors"
   ]
  },
  {
   "cell_type": "code",
   "execution_count": 6,
   "metadata": {},
   "outputs": [
    {
     "name": "stdout",
     "output_type": "stream",
     "text": [
      "tensor([0.6770, 0.9574, 0.3509, 0.5268, 0.5300])\n"
     ]
    }
   ],
   "source": [
    "x = torch.rand(5,3)\n",
    "\n",
    "print(x[:,0]) #rows, col"
   ]
  },
  {
   "cell_type": "code",
   "execution_count": 7,
   "metadata": {},
   "outputs": [
    {
     "name": "stdout",
     "output_type": "stream",
     "text": [
      "tensor(0.1699)\n",
      "0.16989976167678833\n"
     ]
    }
   ],
   "source": [
    "# extracting only one value\n",
    "print(x[1,1])\n",
    "\n",
    "print(x[1,1].item())    "
   ]
  },
  {
   "cell_type": "markdown",
   "metadata": {},
   "source": [
    "# Resizing Tensors\n",
    "\n",
    "- We use .view() in order to resize tensors\n",
    "- -1 is a placeholder, the library will determine the correct value to be placed at -1 "
   ]
  },
  {
   "cell_type": "code",
   "execution_count": 9,
   "metadata": {},
   "outputs": [
    {
     "name": "stdout",
     "output_type": "stream",
     "text": [
      "tensor([[1, 2, 3],\n",
      "        [4, 5, 6]])\n",
      "tensor([1, 2, 3, 4, 5, 6])\n",
      "tensor([[1, 2],\n",
      "        [3, 4],\n",
      "        [5, 6]])\n"
     ]
    }
   ],
   "source": [
    "\n",
    "\n",
    "a = torch.tensor([[1,2,3],[4,5,6]])\n",
    "print(a)\n",
    "\n",
    "# flatten a tensor\n",
    "print(a.view(-1))\n",
    "\n",
    "# Create a 2 column tensor\n",
    "print(a.view(-1,2))"
   ]
  },
  {
   "cell_type": "markdown",
   "metadata": {},
   "source": [
    "# GPU specific operations"
   ]
  },
  {
   "cell_type": "code",
   "execution_count": null,
   "metadata": {},
   "outputs": [],
   "source": [
    "if torch.cuda.is_available:\n",
    "    \n",
    "    #create an instance for the gpu\n",
    "    device=torch.device(\"cuda\")\n",
    "    \n",
    "    # To use GPU, place tensors on the gpu. This can be inplace or transfer\n",
    "    # inplace\n",
    "    a = torch.tensor([1,2,3],device=device)\n",
    "\n",
    "    #transfer\n",
    "    b=torch.tensor([1,2,3])\n",
    "    b.to(device)"
   ]
  }
 ],
 "metadata": {
  "kernelspec": {
   "display_name": "base",
   "language": "python",
   "name": "python3"
  },
  "language_info": {
   "codemirror_mode": {
    "name": "ipython",
    "version": 3
   },
   "file_extension": ".py",
   "mimetype": "text/x-python",
   "name": "python",
   "nbconvert_exporter": "python",
   "pygments_lexer": "ipython3",
   "version": "3.8.0"
  }
 },
 "nbformat": 4,
 "nbformat_minor": 2
}
