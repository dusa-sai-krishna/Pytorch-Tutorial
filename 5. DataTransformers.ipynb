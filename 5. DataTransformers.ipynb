{
 "cells": [
  {
   "cell_type": "markdown",
   "metadata": {},
   "source": [
    "- Pytorch provides certain data transformations in torchvision module\n",
    "https://pytorch.org/vision/0.9/transforms.html"
   ]
  },
  {
   "cell_type": "code",
   "execution_count": 8,
   "metadata": {},
   "outputs": [],
   "source": [
    "import torch\n",
    "import torchvision\n",
    "from torch.utils.data import Dataset,DataLoader\n",
    "import numpy as np"
   ]
  },
  {
   "cell_type": "code",
   "execution_count": 6,
   "metadata": {},
   "outputs": [],
   "source": [
    "class WineDataset(Dataset):\n",
    "    \n",
    "    def __init__(self,transform=None):\n",
    "        xy=np.loadtxt(fname=\"wine.csv\",dtype=np.float32,delimiter=\",\",skiprows=1)\n",
    "        self.x = xy[:,1:] # 1st column is target column, so we are skipping it\n",
    "        self.y = xy[:,[0]] # returns features in list of list [[1],[2],[3]]. torch need data in this format\n",
    "        self.n_samples=xy.shape[0]\n",
    "        self.transform = transform\n",
    "        #print(self.y[:10])\n",
    "    \n",
    "    def __getitem__(self, index):\n",
    "        #dataset[0]\n",
    "        sample=self.x[index],self.y[index]\n",
    "        \n",
    "        return self.transform(sample)\n",
    "    \n",
    "    \n",
    "    \n",
    "    def __len__(self):\n",
    "        return self.n_samples\n",
    "    \n"
   ]
  },
  {
   "cell_type": "code",
   "execution_count": 7,
   "metadata": {},
   "outputs": [],
   "source": [
    "\n",
    "# creating custom transformers\n",
    "class ToTensor():\n",
    "    \n",
    "    def __call__(self,sample):\n",
    "        features,label=sample\n",
    "        return torch.from_numpy(features),torch.from_numpy(label)\n",
    "    \n",
    "class MulTransform():\n",
    "    \n",
    "    def __init__(self,factor):\n",
    "        self.factor=factor\n",
    "    \n",
    "    def __call__(self,sample):\n",
    "        features,label = sample\n",
    "        return features*2,label"
   ]
  },
  {
   "cell_type": "code",
   "execution_count": 9,
   "metadata": {},
   "outputs": [
    {
     "name": "stdout",
     "output_type": "stream",
     "text": [
      "tensor([2.8460e+01, 3.4200e+00, 4.8600e+00, 3.1200e+01, 2.5400e+02, 5.6000e+00,\n",
      "        6.1200e+00, 5.6000e-01, 4.5800e+00, 1.1280e+01, 2.0800e+00, 7.8400e+00,\n",
      "        2.1300e+03])\n",
      "tensor([1.])\n"
     ]
    }
   ],
   "source": [
    "# creating a composed transform\n",
    "transform = torchvision.transforms.Compose([ToTensor(),MulTransform(2)])\n",
    "\n",
    "dataset=WineDataset(transform)\n",
    "\n",
    "features,label = dataset[0]\n",
    "print(features)\n",
    "print(label)"
   ]
  },
  {
   "cell_type": "code",
   "execution_count": null,
   "metadata": {},
   "outputs": [],
   "source": []
  }
 ],
 "metadata": {
  "kernelspec": {
   "display_name": "Python 3",
   "language": "python",
   "name": "python3"
  },
  "language_info": {
   "codemirror_mode": {
    "name": "ipython",
    "version": 3
   },
   "file_extension": ".py",
   "mimetype": "text/x-python",
   "name": "python",
   "nbconvert_exporter": "python",
   "pygments_lexer": "ipython3",
   "version": "3.8.0"
  }
 },
 "nbformat": 4,
 "nbformat_minor": 2
}
