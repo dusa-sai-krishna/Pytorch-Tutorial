{
 "cells": [
  {
   "cell_type": "markdown",
   "metadata": {},
   "source": [
    "- Calculating gradients on entire training samples is computationally expensive.\n",
    "- So it's better to calculate gradients over a small sample or batches of training samples in each epoch.\n",
    "- This can be done using Dataset Loader in pytorch"
   ]
  },
  {
   "cell_type": "code",
   "execution_count": 2,
   "metadata": {},
   "outputs": [],
   "source": [
    "import torch\n",
    "from torch.utils.data import Dataset,DataLoader\n",
    "import numpy as np"
   ]
  },
  {
   "cell_type": "code",
   "execution_count": 28,
   "metadata": {},
   "outputs": [],
   "source": [
    "class WineDataset(Dataset):\n",
    "    \n",
    "    def __init__(self):\n",
    "        xy=np.loadtxt(fname=\"wine.csv\",dtype=np.float32,delimiter=\",\",skiprows=1)\n",
    "        self.x = torch.from_numpy(xy[:,1:]) # 1st column is target column, so we are skipping it\n",
    "        self.y = torch.from_numpy(xy[:,[0]]) # returns features in list of list [[1],[2],[3]]. torch need data in this format\n",
    "        self.n_samples=xy.shape[0]\n",
    "        #print(self.y[:10])\n",
    "    \n",
    "    def __getitem__(self, index):\n",
    "        #dataset[0]\n",
    "        return self.x[index],self.y[index]\n",
    "    \n",
    "    def __len__(self):\n",
    "        return self.n_samples"
   ]
  },
  {
   "cell_type": "code",
   "execution_count": 29,
   "metadata": {},
   "outputs": [
    {
     "name": "stdout",
     "output_type": "stream",
     "text": [
      "tensor([1.4230e+01, 1.7100e+00, 2.4300e+00, 1.5600e+01, 1.2700e+02, 2.8000e+00,\n",
      "        3.0600e+00, 2.8000e-01, 2.2900e+00, 5.6400e+00, 1.0400e+00, 3.9200e+00,\n",
      "        1.0650e+03]) tensor([1.])\n",
      "No of samples is 178\n"
     ]
    }
   ],
   "source": [
    "# Create a Dataset Object\n",
    "dataset= WineDataset()\n",
    "features,labels=dataset[0]\n",
    "print(features,labels)\n",
    "print(f'No of samples is {len(dataset)}')"
   ]
  },
  {
   "cell_type": "code",
   "execution_count": 30,
   "metadata": {},
   "outputs": [
    {
     "name": "stdout",
     "output_type": "stream",
     "text": [
      "Total Batches:45\n",
      "tensor([[1.1840e+01, 8.9000e-01, 2.5800e+00, 1.8000e+01, 9.4000e+01, 2.2000e+00,\n",
      "         2.2100e+00, 2.2000e-01, 2.3500e+00, 3.0500e+00, 7.9000e-01, 3.0800e+00,\n",
      "         5.2000e+02],\n",
      "        [1.2040e+01, 4.3000e+00, 2.3800e+00, 2.2000e+01, 8.0000e+01, 2.1000e+00,\n",
      "         1.7500e+00, 4.2000e-01, 1.3500e+00, 2.6000e+00, 7.9000e-01, 2.5700e+00,\n",
      "         5.8000e+02],\n",
      "        [1.2690e+01, 1.5300e+00, 2.2600e+00, 2.0700e+01, 8.0000e+01, 1.3800e+00,\n",
      "         1.4600e+00, 5.8000e-01, 1.6200e+00, 3.0500e+00, 9.6000e-01, 2.0600e+00,\n",
      "         4.9500e+02],\n",
      "        [1.1960e+01, 1.0900e+00, 2.3000e+00, 2.1000e+01, 1.0100e+02, 3.3800e+00,\n",
      "         2.1400e+00, 1.3000e-01, 1.6500e+00, 3.2100e+00, 9.9000e-01, 3.1300e+00,\n",
      "         8.8600e+02]])\n",
      "tensor([[2.],\n",
      "        [2.],\n",
      "        [2.],\n",
      "        [2.]])\n"
     ]
    }
   ],
   "source": [
    "# Creating Batches\n",
    "data = DataLoader(WineDataset(),batch_size=4,shuffle=True)\n",
    "print(f'Total Batches:{len(data)}')\n",
    "for features,label in data:\n",
    "    print(features)\n",
    "    print(label)\n",
    "    break\n",
    "\n",
    "# Each batch contains 4 samples, such that there are 45 batches"
   ]
  },
  {
   "cell_type": "code",
   "execution_count": 31,
   "metadata": {},
   "outputs": [
    {
     "name": "stdout",
     "output_type": "stream",
     "text": [
      "epoch 1 batch 5\n",
      "epoch 1 batch 10\n",
      "epoch 1 batch 15\n",
      "epoch 1 batch 20\n",
      "epoch 1 batch 25\n",
      "epoch 1 batch 30\n",
      "epoch 1 batch 35\n",
      "epoch 1 batch 40\n",
      "epoch 1 batch 45\n",
      "epoch 2 batch 5\n",
      "epoch 2 batch 10\n",
      "epoch 2 batch 15\n",
      "epoch 2 batch 20\n",
      "epoch 2 batch 25\n",
      "epoch 2 batch 30\n",
      "epoch 2 batch 35\n",
      "epoch 2 batch 40\n",
      "epoch 2 batch 45\n"
     ]
    }
   ],
   "source": [
    "import math\n",
    "num_epochs=2\n",
    "num_iterations = math.ceil(len(dataset)/4)\n",
    "\n",
    "for epoch in range(num_epochs):\n",
    "    \n",
    "    for i,[feature,label] in enumerate(data):\n",
    "        \n",
    "        if (i+1)%5==0: #For every 5th iteration\n",
    "        \n",
    "            print(f'epoch {epoch+1} batch {i+1}')"
   ]
  },
  {
   "cell_type": "code",
   "execution_count": null,
   "metadata": {},
   "outputs": [],
   "source": []
  }
 ],
 "metadata": {
  "kernelspec": {
   "display_name": "Python 3",
   "language": "python",
   "name": "python3"
  },
  "language_info": {
   "codemirror_mode": {
    "name": "ipython",
    "version": 3
   },
   "file_extension": ".py",
   "mimetype": "text/x-python",
   "name": "python",
   "nbconvert_exporter": "python",
   "pygments_lexer": "ipython3",
   "version": "3.8.0"
  }
 },
 "nbformat": 4,
 "nbformat_minor": 2
}
