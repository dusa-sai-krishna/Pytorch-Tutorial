{
 "cells": [
  {
   "cell_type": "markdown",
   "metadata": {},
   "source": [
    "Steps\n",
    "- Load MNIST\n",
    "- Use Data Loaders and Transform\n",
    "- Multi Layer Neural Network, Activation Function\n",
    "- Loss and Optimizer\n",
    "- Training and Loop\n",
    "- Model Evaluation\n",
    "- Gpu support"
   ]
  },
  {
   "cell_type": "code",
   "execution_count": 1,
   "metadata": {},
   "outputs": [],
   "source": [
    "import torch\n",
    "import torchvision\n",
    "import torch.nn as nn\n",
    "import torchvision.transforms as transforms\n",
    "import matplotlib.pyplot as plt"
   ]
  },
  {
   "cell_type": "code",
   "execution_count": 2,
   "metadata": {},
   "outputs": [],
   "source": [
    "#device config\n",
    "device = torch.device(\"cuda\" if torch.cuda.is_available() else \"cpu\")\n"
   ]
  },
  {
   "cell_type": "code",
   "execution_count": 3,
   "metadata": {},
   "outputs": [],
   "source": [
    "#hyperparameters\n",
    "input_size=784 #28x28\n",
    "hidden_size=100\n",
    "num_classes=10\n",
    "num_epochs=2\n",
    "batch_size=100\n",
    "learning_rate=0.001 "
   ]
  },
  {
   "cell_type": "code",
   "execution_count": 4,
   "metadata": {},
   "outputs": [
    {
     "name": "stdout",
     "output_type": "stream",
     "text": [
      "torch.Size([100, 1, 28, 28])\n",
      "torch.Size([100])\n"
     ]
    }
   ],
   "source": [
    "#MNIST\n",
    "train_dataset=torchvision.datasets.MNIST(root='./data',\n",
    "    train=True,\n",
    "    transform=transforms.ToTensor(),\n",
    "    download=True)\n",
    "test_dataset=torchvision.datasets.MNIST(root='./data',\n",
    "    train=False,\n",
    "    transform=transforms.ToTensor())\n",
    "\n",
    "train_loader=torch.utils.data.DataLoader(dataset=train_dataset,\n",
    "    batch_size=batch_size,\n",
    "    shuffle=True)\n",
    "test_loader=torch.utils.data.DataLoader(dataset=test_dataset,\n",
    "    batch_size=batch_size,\n",
    "    shuffle=False)\n",
    "\n",
    "for features,labels in train_loader:\n",
    "    print(features.shape)\n",
    "    print(labels.shape)\n",
    "    break"
   ]
  },
  {
   "cell_type": "markdown",
   "metadata": {},
   "source": [
    "100 - Batch size or number of samples in a batch<br>\n",
    "1 - the images contain only one channel<br>\n",
    "28x28- is the size of the image"
   ]
  },
  {
   "cell_type": "code",
   "execution_count": 5,
   "metadata": {},
   "outputs": [
    {
     "data": {
      "image/png": "[encoded data removed]",
      "text/plain": [
       "<Figure size 640x480 with 6 Axes>"
      ]
     },
     "metadata": {},
     "output_type": "display_data"
    }
   ],
   "source": [
    "# Let's visualize images\n",
    "for i in range(6):\n",
    "    plt.subplot(2,3,i+1)\n",
    "    plt.imshow(features[i][0],cmap='gray')"
   ]
  },
  {
   "cell_type": "code",
   "execution_count": 6,
   "metadata": {},
   "outputs": [],
   "source": [
    "class NeuralNet(nn.Module):\n",
    "    def __init__(self,input_size,hidden_size,num_classes):\n",
    "        super(NeuralNet,self).__init__()\n",
    "        self.l1=nn.Linear(input_size,hidden_size)\n",
    "        self.relu=nn.ReLU()\n",
    "        self.l2=nn.Linear(hidden_size,num_classes)\n",
    "    def forward(self,x):\n",
    "        out=self.l1(x)\n",
    "        out=self.relu(out)\n",
    "        out=self.l2(out)\n",
    "        return out\n",
    "model=NeuralNet(input_size,hidden_size,num_classes).to(device)\n",
    "\n"
   ]
  },
  {
   "cell_type": "code",
   "execution_count": 7,
   "metadata": {},
   "outputs": [],
   "source": [
    "# loss and optimizer\n",
    "loss_function = nn.CrossEntropyLoss()\n",
    "optimizer = torch.optim.Adam(model.parameters(), lr=learning_rate)\n"
   ]
  },
  {
   "cell_type": "code",
   "execution_count": 10,
   "metadata": {},
   "outputs": [
    {
     "name": "stdout",
     "output_type": "stream",
     "text": [
      "epoch 1 batch 100 loss = 0.1362\n",
      "epoch 1 batch 200 loss = 0.1756\n",
      "epoch 1 batch 300 loss = 0.1321\n",
      "epoch 1 batch 400 loss = 0.2124\n",
      "epoch 1 batch 500 loss = 0.1264\n",
      "epoch 1 batch 600 loss = 0.1941\n",
      "epoch 2 batch 100 loss = 0.1640\n",
      "epoch 2 batch 200 loss = 0.1600\n",
      "epoch 2 batch 300 loss = 0.0719\n",
      "epoch 2 batch 400 loss = 0.0947\n",
      "epoch 2 batch 500 loss = 0.0725\n",
      "epoch 2 batch 600 loss = 0.0295\n"
     ]
    }
   ],
   "source": [
    "#training loop\n",
    "for epoch in range(num_epochs):\n",
    "    for batch_idx, (images, labels) in enumerate(train_loader):\n",
    "        #get samples\n",
    "        # 100 1 28`28\n",
    "        # 100 784\n",
    "        data = images.reshape(-1,28*28).to(device=device)\n",
    "        targets=labels.to(device=device)\n",
    "\n",
    "        #forward\n",
    "        scores=model(data)\n",
    "        loss=loss_function(scores,targets)\n",
    "\n",
    "        #backward\n",
    "        optimizer.zero_grad()\n",
    "        loss.backward()\n",
    "\n",
    "        #gradient descent or adam step\n",
    "        optimizer.step()\n",
    "        \n",
    "        if (batch_idx+1) % 100 == 0:\n",
    "            print(f'epoch {epoch+1} batch {batch_idx+1} loss = {loss.item():.4f}')\n",
    "        \n",
    "        "
   ]
  },
  {
   "cell_type": "code",
   "execution_count": 9,
   "metadata": {},
   "outputs": [
    {
     "name": "stdout",
     "output_type": "stream",
     "text": [
      "accuracy = 0.9515\n"
     ]
    }
   ],
   "source": [
    "#test\n",
    "\n",
    "with torch.no_grad():\n",
    "    n_correct=0\n",
    "    n_samples=0\n",
    "    for images,labels in test_loader:\n",
    "        images=images.reshape(-1,28*28).to(device=device)\n",
    "        labels=labels.to(device=device)\n",
    "        outputs=model(images)\n",
    "        #max returns (value,index)\n",
    "        _,predictions=torch.max(outputs,1)\n",
    "        n_samples+=labels.shape[0]\n",
    "        n_correct+=(predictions==labels).sum().item()\n",
    "    acc=n_correct/n_samples\n",
    "    print(f'accuracy = {acc:.4f}')"
   ]
  }
 ],
 "metadata": {
  "kernelspec": {
   "display_name": "Python 3",
   "language": "python",
   "name": "python3"
  },
  "language_info": {
   "codemirror_mode": {
    "name": "ipython",
    "version": 3
   },
   "file_extension": ".py",
   "mimetype": "text/x-python",
   "name": "python",
   "nbconvert_exporter": "python",
   "pygments_lexer": "ipython3",
   "version": "3.8.0"
  }
 },
 "nbformat": 4,
 "nbformat_minor": 2
}
