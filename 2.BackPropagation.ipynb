{
 "cells": [
  {
   "cell_type": "markdown",
   "metadata": {},
   "source": [
    "- Back propagation is a algorithm used to train neural networks.\n",
    "- It is used to calculate the gradient of loss function for each weights.\n",
    "- Weights are tunable parameters. In machine learning terminologies they are called as hyper parameters.\n",
    "- Then the gradient is used to update the weights to minimize the loss."
   ]
  },
  {
   "cell_type": "code",
   "execution_count": 2,
   "metadata": {},
   "outputs": [
    {
     "name": "stdout",
     "output_type": "stream",
     "text": [
      "tensor(-2.)\n"
     ]
    }
   ],
   "source": [
    "import torch\n",
    "\n",
    "# create initial samples\n",
    "x=torch.tensor(1.0)\n",
    "y=torch.tensor(2.0)\n",
    "\n",
    "#initialize weights\n",
    "w=torch.tensor(1.0,requires_grad=True)# requires_grad=True is required to mark a tensor as a weight\n",
    "\n",
    "#forward pass\n",
    "y_hat=x*w\n",
    "\n",
    "loss= (y_hat-y)**2\n",
    "\n",
    "#backward pass\n",
    "\n",
    "    # local gradient calculation\n",
    "loss.backward()\n",
    "\n",
    "print(w.grad) # gets the loss gradient w.r.t weight\n",
    "#update weights    \n",
    "# perform multiple times to tune the hyperparameter"
   ]
  },
  {
   "cell_type": "code",
   "execution_count": null,
   "metadata": {},
   "outputs": [],
   "source": []
  }
 ],
 "metadata": {
  "kernelspec": {
   "display_name": "Python 3",
   "language": "python",
   "name": "python3"
  },
  "language_info": {
   "codemirror_mode": {
    "name": "ipython",
    "version": 3
   },
   "file_extension": ".py",
   "mimetype": "text/x-python",
   "name": "python",
   "nbconvert_exporter": "python",
   "pygments_lexer": "ipython3",
   "version": "3.8.0"
  }
 },
 "nbformat": 4,
 "nbformat_minor": 2
}
